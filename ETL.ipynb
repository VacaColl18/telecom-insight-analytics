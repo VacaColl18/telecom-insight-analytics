{
 "cells": [
  {
   "cell_type": "code",
   "execution_count": null,
   "metadata": {},
   "outputs": [],
   "source": [
    "import pandas as pd\n",
    "\n",
    "# Obtengo datos con la API de ENACOM\n",
    "# Penetración de Internet fijo (accesos por cada 100 hogares)\n",
    "accesocada100hogares1 = pd.read_csv('accesocada100hogares1.csv')\n",
    "accesocada100hogares2 = pd.read_csv('accesocada100hogares2.csv')\n",
    "\n",
    "# Acceso a internet fijo por velocidad de descarga y localidad\n",
    "aif_velocidad_localidad = pd.read_csv('aif_velocidad_localidad.csv')\n",
    "\n",
    "# Conectividad al servicio de internet\n",
    "conectividad_internet = pd.read_csv('conectividad_internet.csv')\n",
    "\n",
    "# Historico velocidad internet\n",
    "historico_velocidad_internet = pd.read_csv('historico_velocidad_internet.csv')\n",
    "\n",
    "# Internet acceso por tecnologia\n",
    "acceso_tecnologia = pd.read_csv('Internet_Accesos_Tecnologia.csv')\n",
    "\n",
    "# Internet acceso por velocidad\n",
    "acceso_velocidad = pd.read_csv('Internet_Accesos_Velocidad.csv')\n",
    "\n",
    "# Internet BAF\n",
    "internet_baf = pd.read_csv('Internet_BAF.csv')\n",
    "internet_baf2 = pd.read_csv('Internet_BAF(1).csv')\n",
    "\n",
    "# Internet Ingresos\n",
    "internet_ingresos = pd.read_csv('Internet_Ingresos.csv')\n",
    "\n",
    "# Listados localidades con conectividad a internet\n",
    "listado_localidades = pd.read_csv('Listado_Localidades_Conectividad.csv')\n"
   ]
  },
  {
   "cell_type": "code",
   "execution_count": null,
   "metadata": {},
   "outputs": [],
   "source": [
    "def filaxnombre(df):\n",
    "    # Obtener los valores de la primera fila como nombres de las columnas\n",
    "    nombres_columnas = df.iloc[0]\n",
    "\n",
    "    # Asignar los nombres de las columnas al DataFrame\n",
    "    df = df.set_axis(nombres_columnas, axis=1)\n",
    "\n",
    "    return df"
   ]
  },
  {
   "cell_type": "code",
   "execution_count": null,
   "metadata": {},
   "outputs": [],
   "source": [
    "accesocada100hogares1.info()"
   ]
  },
  {
   "cell_type": "code",
   "execution_count": null,
   "metadata": {},
   "outputs": [],
   "source": [
    "accesocada100hogares2.info()"
   ]
  },
  {
   "cell_type": "code",
   "execution_count": null,
   "metadata": {},
   "outputs": [],
   "source": [
    "aif_velocidad_localidad.info()"
   ]
  },
  {
   "cell_type": "code",
   "execution_count": null,
   "metadata": {},
   "outputs": [],
   "source": [
    "aif_velocidad_localidad.info(100)"
   ]
  },
  {
   "cell_type": "code",
   "execution_count": null,
   "metadata": {},
   "outputs": [],
   "source": [
    "# obtengo las primeras 10 filas no nulas de la columna 100 mbps\n",
    "aif_velocidad_localidad['100 mbps'].head(10).dropna()\n"
   ]
  },
  {
   "cell_type": "code",
   "execution_count": null,
   "metadata": {},
   "outputs": [],
   "source": [
    "aif_velocidad_localidad.head()\n",
    "\n",
    "# obtengo nombre de las columnas\n",
    "aif_velocidad_localidad.columns"
   ]
  },
  {
   "cell_type": "code",
   "execution_count": null,
   "metadata": {},
   "outputs": [],
   "source": [
    "filaxnombre(aif_velocidad_localidad)\n",
    "aif_velocidad_localidad = aif_velocidad_localidad(by='100 mbps', ascending=False)\n",
    "aif_velocidad_localidad.head(10)\n"
   ]
  }
 ],
 "metadata": {
  "kernelspec": {
   "display_name": "Python 3",
   "language": "python",
   "name": "python3"
  },
  "language_info": {
   "codemirror_mode": {
    "name": "ipython",
    "version": 3
   },
   "file_extension": ".py",
   "mimetype": "text/x-python",
   "name": "python",
   "nbconvert_exporter": "python",
   "pygments_lexer": "ipython3",
   "version": "3.11.3"
  },
  "orig_nbformat": 4
 },
 "nbformat": 4,
 "nbformat_minor": 2
}
